{
 "cells": [
  {
   "cell_type": "code",
   "execution_count": 1,
   "metadata": {},
   "outputs": [],
   "source": [
    "import pdfplumber\n",
    "import re\n",
    "import pandas as pd\n",
    "import os\n",
    "\n",
    "pd.set_option('display.max_columns', None)\n",
    "pd.set_option('display.max_rows', 200)"
   ]
  },
  {
   "cell_type": "code",
   "execution_count": 2,
   "metadata": {},
   "outputs": [
    {
     "data": {
      "text/plain": [
       "['/Users/asen/Desktop/finance_files/jul2022_sep2022_1.pdf',\n",
       " '/Users/asen/Desktop/finance_files/jul2022_sep2022_3.pdf',\n",
       " '/Users/asen/Desktop/finance_files/jul2022_sep2022_4.pdf',\n",
       " '/Users/asen/Desktop/finance_files/jul2022_sep2022_5.pdf',\n",
       " '/Users/asen/Desktop/finance_files/jul2022_sep2022_6.pdf',\n",
       " '/Users/asen/Desktop/finance_files/jul2022_sep2022_amendment_affidavit_2.pdf']"
      ]
     },
     "execution_count": 2,
     "metadata": {},
     "output_type": "execute_result"
    }
   ],
   "source": [
    "path = '/Users/asen/Desktop/finance_files/'\n",
    "filenames = os.listdir(f'{path}')\n",
    "filenames = [path + i for i in filenames]\n",
    "filenames = sorted(filenames)\n",
    "filenames = filenames[1:] #delete ds store\n",
    "filenames =  sorted(filenames)\n",
    "filenames"
   ]
  },
  {
   "cell_type": "code",
   "execution_count": 3,
   "metadata": {},
   "outputs": [],
   "source": [
    "names = {'/Users/asen/Desktop/finance_files/jul2022_sep2022_3.pdf': 'Clay Jenkins',\n",
    " '/Users/asen/Desktop/finance_files/jul2022_sep2022_4.pdf': 'John Creuzot',\n",
    " '/Users/asen/Desktop/finance_files/jul2022_sep2022_5.pdf': 'Faith Johnson',\n",
    " '/Users/asen/Desktop/finance_files/jul2022_sep2022_6.pdf': 'Andrew Sommerman', \n",
    " '/Users/asen/Desktop/finance_files/jul2022_sep2022_1.pdf': 'Justin Koch',\n",
    " '/Users/asen/Desktop/finance_files/jul2022_sep2022_amendment_affidavit_2.pdf': 'Lauren Davis'\n",
    " }"
   ]
  },
  {
   "cell_type": "code",
   "execution_count": 4,
   "metadata": {},
   "outputs": [],
   "source": [
    "df = []\n",
    "\n",
    "fps = ['Date Full', 'City State', 'Zip Code', 'Date Payee', 'Zip  Code', 'Ave,  Suite', 'Date  Full', 'City,  State', 'State,  Zip', 'Date  Fullname', 'Zip Cod', 'See  Instructions', 'Date  Payee', 'See  Instructons']\n",
    "\n",
    "for file in filenames:\n",
    "    # os.system(f'ocrmypdf --force-ocr --deskew --clean-final {file} {file}')\n",
    "\n",
    "    text = ''\n",
    "    with pdfplumber.open(f\"{file}\") as pdf:\n",
    "        for i in range(3, len(pdf.pages)):\n",
    "            page = pdf.pages[i]\n",
    "            text += page.extract_text()\n",
    "    \n",
    "    lines  = text.split('\\n')\n",
    "\n",
    "    lines = [i for i in lines if i.strip() != '']\n",
    "\n",
    "    date_idx = []\n",
    "\n",
    "    for idx, line in enumerate(lines):\n",
    "        if 'Date' in line:\n",
    "            date_idx.append(idx) \n",
    "        else:\n",
    "            pass\n",
    "    \n",
    "    \n",
    "\n",
    "    for i, j in enumerate(date_idx):\n",
    "\n",
    "        d = {}\n",
    "\n",
    "        if i != 0: \n",
    "            chunk = lines[(date_idx[i-1]):(date_idx[i])]\n",
    "\n",
    "            chunk = [i for i in chunk if i.strip() != '']\n",
    "            \n",
    "            chunk_text = ''\n",
    "            \n",
    "            for line in chunk:\n",
    "                chunk_text = chunk_text + '\\n' + line\n",
    "            \n",
    "            chunk_text = chunk_text.replace(' /', '/').replace('/ ','/')\n",
    "\n",
    "            #get candidate name\n",
    "            d['candidate_name'] = names[file]\n",
    "\n",
    "            #get candidate date\n",
    "            if re.findall('\\d{1,2}/\\d{1,2}/\\d{2,4}', chunk_text) != []:\n",
    "                d['date'] = re.findall('\\d{1,2}/\\d{1,2}/\\d{2,4}', chunk_text, re.MULTILINE)[0]\n",
    "                \n",
    "            elif re.findall('\\d{1,2}\\-\\d{1,2}\\-\\d{2,4}', chunk_text) != []:\n",
    "                d['date'] = re.findall('\\d{1,2}\\-\\d{1,2}\\-\\d{2,4}', chunk_text, re.MULTILINE)[0]\n",
    "\n",
    "            elif re.findall('\\d+/\\d+\\s\\d+', chunk_text) != []:\n",
    "                d['date'] = re.findall('\\d+/\\d+\\s\\d+', chunk_text, re.MULTILINE)[0].replace(' ', '') + ('/22')\n",
    "\n",
    "            else:\n",
    "                d['date'] = ''\n",
    "            \n",
    "            #get amount contributed\n",
    "            if re.findall('\\$\\d+\\.\\d{2}', chunk_text) != []:\n",
    "                d['amount'] = re.findall('\\$\\d+\\.\\d{2}', chunk_text)[0]\n",
    "            \n",
    "            elif re.findall('\\$\\d+', chunk_text) != []:\n",
    "                d['amount'] = re.findall('\\$\\d+', chunk_text)[0]\n",
    "            \n",
    "            elif re.findall('\\$\\d{1,3}(,\\d{3})*(\\.\\d{2})?', chunk_text) != []:\n",
    "                d['amount'] = re.findall('\\$\\d{1,3}(,\\d{3})*(\\.\\d{2})?', chunk_text)[0]\n",
    "\n",
    "            elif re.findall('\\d+\\.\\d{2}', chunk_text) != []:\n",
    "                d['amount'] = re.findall('\\d+\\.\\d{2}', chunk_text)[0]\n",
    "            \n",
    "            elif re.findall('\\d{1,3}(,\\d{3})*(\\.\\d{2})?', chunk_text) != []:\n",
    "                d['amount'] = re.findall('\\d{1,3}(,\\d{3})*(\\.\\d{2})?', chunk_text)[0]\n",
    "\n",
    "            else:\n",
    "                d['amount'] = ''\n",
    "\n",
    "\n",
    "            #get contributor name\n",
    "            if d['candidate_name'] == 'Justin Koch' or d['candidate_name'] == 'Lauren Davis':\n",
    "                d['contributor_name'] = chunk[1].replace(d['date'], '').replace(str(d['amount']), '')\n",
    "            \n",
    "            elif re.findall(\"[A-Z][a-z]+,  [A-Z][a-z]+\", chunk_text) != []: #comma space space\n",
    "                counter = 0\n",
    "                while counter < len(re.findall(\"[A-Z][a-z]+,  [A-Z][a-z]+\", chunk_text)):\n",
    "                    if re.findall(\"[A-Z][a-z]+,  [A-Z][a-z]+\", chunk_text)[counter] not in fps and 'Dallas' not in re.findall(\"[A-Z][a-z]+,  [A-Z][a-z]+\", chunk_text)[counter]:\n",
    "                        d['contributor_name'] = re.findall(\"[A-Z][a-z]+,  [A-Z][a-z]+\", chunk_text)[counter]\n",
    "                        break\n",
    "                    else:\n",
    "                        counter += 1\n",
    "\n",
    "            elif re.findall(\"[A-Z][a-z]+  [A-Z][a-z]+\", chunk_text) != []: #space space\n",
    "                counter = 0\n",
    "                while counter < len(re.findall(\"[A-Z][a-z]+  [A-Z][a-z]+\", chunk_text)):\n",
    "                    if re.findall(\"[A-Z][a-z]+  [A-Z][a-z]+\", chunk_text)[counter] not in fps and 'Dallas' not in re.findall(\"[A-Z][a-z]+  [A-Z][a-z]+\", chunk_text)[counter]:\n",
    "                        d['contributor_name'] = re.findall(\"[A-Z][a-z]+  [A-Z][a-z]+\", chunk_text)[counter]\n",
    "                        break\n",
    "                    else:\n",
    "                        counter += 1\n",
    "            \n",
    "            elif re.findall(\"[A-Z][a-z]+ [A-Z][a-z]+\", chunk_text) != []: #space\n",
    "                counter = 0\n",
    "                while counter < len(re.findall(\"[A-Z][a-z]+ [A-Z][a-z]+\", chunk_text)):\n",
    "                    if re.findall(\"[A-Z][a-z]+ [A-Z][a-z]+\", chunk_text)[counter] not in fps and 'Dallas' not in re.findall(\"[A-Z][a-z]+ [A-Z][a-z]+\", chunk_text)[counter]:\n",
    "                        d['contributor_name'] = re.findall(\"[A-Z][a-z]+ [A-Z][a-z]+\", chunk_text)[0]\n",
    "                        break\n",
    "                    else:\n",
    "                        counter += 1\n",
    "            \n",
    "            else:\n",
    "                d['contributor_name'] = ''\n",
    "            \n",
    "            \n",
    "            d['text'] = chunk_text\n",
    "\n",
    "            df.append(d)\n",
    "    \n",
    "    else:\n",
    "        pass\n",
    "\n",
    "df = pd.DataFrame(df)\n",
    "\n",
    "\n",
    "#lauren davis received x amount of $5k or more \n",
    "#how many contributions? \n",
    "#x amount, with x amount over $xk dollars \n",
    "    \n"
   ]
  },
  {
   "cell_type": "code",
   "execution_count": 5,
   "metadata": {},
   "outputs": [
    {
     "name": "stdout",
     "output_type": "stream",
     "text": [
      "0.9994435169727324\n",
      "0.9337785197551475\n",
      "1.0\n"
     ]
    }
   ],
   "source": [
    "print(len(df.loc[df['amount'] != '']) / len(df))\n",
    "print(len(df.loc[df['date'] != '']) / len(df))\n",
    "print(len(df.loc[df['contributor_name'] != '']) / len(df))"
   ]
  },
  {
   "cell_type": "code",
   "execution_count": 6,
   "metadata": {},
   "outputs": [
    {
     "name": "stderr",
     "output_type": "stream",
     "text": [
      "/var/folders/kd/czy8636s60z_vkm36s066th80000gq/T/ipykernel_83651/3134671947.py:2: FutureWarning: The default value of regex will change from True to False in a future version. In addition, single character regular expressions will *not* be treated as literal strings when regex=True.\n",
      "  df['amount'] = df['amount'].str.replace('$', '').replace(',', '')\n"
     ]
    }
   ],
   "source": [
    "df['amount'] = df['amount'].str.strip()\n",
    "df['amount'] = df['amount'].str.replace('$', '').replace(',', '')\n",
    "# df['amount'] = pd.to_numeric(df['amount'], errors='coerce')\n",
    "# df['date'] = pd.to_datetime(df['date'], errors='coerce')"
   ]
  },
  {
   "cell_type": "code",
   "execution_count": 7,
   "metadata": {},
   "outputs": [],
   "source": [
    "df.to_csv('judges_campiagn_contributions5.csv', index=False)"
   ]
  }
 ],
 "metadata": {
  "interpreter": {
   "hash": "d5c0b1bc2e732ecc44534eaffed66287fe33215677cef0fa29158217bd223645"
  },
  "kernelspec": {
   "display_name": "Python 3.9.13 ('base')",
   "language": "python",
   "name": "python3"
  },
  "language_info": {
   "codemirror_mode": {
    "name": "ipython",
    "version": 3
   },
   "file_extension": ".py",
   "mimetype": "text/x-python",
   "name": "python",
   "nbconvert_exporter": "python",
   "pygments_lexer": "ipython3",
   "version": "3.9.13"
  },
  "orig_nbformat": 4
 },
 "nbformat": 4,
 "nbformat_minor": 2
}
